{
 "cells": [
  {
   "cell_type": "markdown",
   "id": "3b5d1808",
   "metadata": {},
   "source": [
    "# ACTUAL REPORT\n",
    "\n",
    "                  By Joy Joseph\n",
    "                  \n",
    "###  Analyzing and visualizing Data\n",
    "\n",
    "\n",
    "1. What is the most common slang names of dogs?\n",
    "\n",
    "2. What is the least common slang names of dogs?\n",
    "\n",
    "3. What is the least common names for dogs?\n",
    "\n",
    "4. Plot of source vs Tweet Id\n",
    "\n",
    "5. Plot of dog slang_name vs Tweet Id\n",
    "\n",
    "\n",
    "\n"
   ]
  },
  {
   "cell_type": "markdown",
   "id": "2b775481",
   "metadata": {},
   "source": [
    "<img src=\"images/top_slang_name.jpg\" alt=\"slang_name\"/>"
   ]
  },
  {
   "cell_type": "markdown",
   "id": "d631022b",
   "metadata": {},
   "source": [
    "<img src=\"images/tweet_id.jpg\" alt=\"tweet_id\"/>"
   ]
  },
  {
   "cell_type": "markdown",
   "id": "baa1a780",
   "metadata": {},
   "source": [
    "**The most common slang names of dogs from the dataset are**:\n",
    "\n",
    "- pupper which appeared in 202 tweet ids\n",
    "- doggo which appeared in about 62 tweet ids\n",
    "- puppo which appeared in about 22 tweet ids\n",
    "\n",
    "**The least common slang names of dogs from the dataset are**:\n",
    "\n",
    "- doggofloofer which appeared in 1 tweet\n",
    "- doggopuppo which appeared in 1 tweet\n",
    "- floofer which appeared in 7 tweet"
   ]
  },
  {
   "cell_type": "markdown",
   "id": "2c725b87",
   "metadata": {},
   "source": [
    "<img src=\"images/least_slang_name.jpg\" alt=\"slang_name\"/>"
   ]
  },
  {
   "cell_type": "markdown",
   "id": "a1c64f32",
   "metadata": {},
   "source": [
    "<img src=\"images/name.jpg\" alt=\"name\"/>"
   ]
  },
  {
   "cell_type": "markdown",
   "id": "d2639be1",
   "metadata": {},
   "source": [
    "**The least common names of dogs from the dataset are**:\n",
    "\n",
    "- Christoper which appeared in 160 tweet\n",
    "- Fwed which appeared in 168 tweet\n",
    "- Kallie which appeared in 181 tweet"
   ]
  },
  {
   "cell_type": "markdown",
   "id": "66d86d3f",
   "metadata": {},
   "source": [
    "<img src=\"images/tweet_source.jpg\" alt=\"tweet_source\"/>"
   ]
  },
  {
   "cell_type": "markdown",
   "id": "6070a984",
   "metadata": {},
   "source": [
    "**The most tweet is coming from**:\n",
    "\n",
    "- Twitter for iphone\n",
    "- Twitter web client\n",
    "- TweetDeck"
   ]
  }
 ],
 "metadata": {
  "kernelspec": {
   "display_name": "Python 3",
   "language": "python",
   "name": "python3"
  },
  "language_info": {
   "codemirror_mode": {
    "name": "ipython",
    "version": 3
   },
   "file_extension": ".py",
   "mimetype": "text/x-python",
   "name": "python",
   "nbconvert_exporter": "python",
   "pygments_lexer": "ipython3",
   "version": "3.8.8"
  }
 },
 "nbformat": 4,
 "nbformat_minor": 5
}
