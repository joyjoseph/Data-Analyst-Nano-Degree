{
 "cells": [
  {
   "cell_type": "markdown",
   "id": "4883e97a",
   "metadata": {},
   "source": [
    "# WRANGLE REPORT\n",
    "\n",
    "                  By Joy Joseph\n",
    "                  \n",
    "## Analyzing and visualizing Data\n",
    "\n",
    "\n",
    "1. What is the most common slang names of dogs?\n",
    "\n",
    "2. What is the least common slang names of dogs?\n",
    "\n",
    "3. What is the least common names for dogs?\n",
    "\n",
    "4. Plot of source vs Tweet Id\n",
    "\n",
    "5. Plot of dog slang_name vs Tweet Id\n",
    "\n",
    "\n",
    "\n"
   ]
  },
  {
   "cell_type": "markdown",
   "id": "165cc282",
   "metadata": {},
   "source": [
    "![slang names](\"C:\\Users\\USER\\Desktop\\Udacity\\Project2\\images\\top_slang_name.JPG\")"
   ]
  },
  {
   "cell_type": "code",
   "execution_count": 1,
   "id": "512e6d20",
   "metadata": {},
   "outputs": [
    {
     "name": "stdout",
     "output_type": "stream",
     "text": [
      "/c/Users/USER/Desktop/Udacity/Project2\n"
     ]
    }
   ],
   "source": [
    "!pwd"
   ]
  },
  {
   "cell_type": "code",
   "execution_count": null,
   "id": "8c5b178b",
   "metadata": {},
   "outputs": [],
   "source": []
  }
 ],
 "metadata": {
  "kernelspec": {
   "display_name": "Python 3",
   "language": "python",
   "name": "python3"
  },
  "language_info": {
   "codemirror_mode": {
    "name": "ipython",
    "version": 3
   },
   "file_extension": ".py",
   "mimetype": "text/x-python",
   "name": "python",
   "nbconvert_exporter": "python",
   "pygments_lexer": "ipython3",
   "version": "3.8.8"
  }
 },
 "nbformat": 4,
 "nbformat_minor": 5
}
